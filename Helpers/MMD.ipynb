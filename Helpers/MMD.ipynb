{
 "cells": [
  {
   "cell_type": "code",
   "execution_count": null,
   "metadata": {
    "id": "pIfK58phgYHc"
   },
   "outputs": [],
   "source": [
    "import os\n",
    "import numpy as np\n",
    "import torch\n",
    "import h5py\n",
    "import torch_two_sample"
   ]
  },
  {
   "cell_type": "code",
   "execution_count": null,
   "metadata": {
    "id": "mQvWqiuRg9H_"
   },
   "outputs": [],
   "source": [
    "SCorGAN_model = 'SCorGAN.MIMIC-III'\n",
    "corGAN_model = 'CORGAN.MIMIC-III'\n",
    "medGAN_model = 'medGAN.MIMIC-III'\n",
    "\n",
    "dataset = 'data/mimic-iii-processed/BINARY.h5'\n",
    "SCorGAN_samples = np.load('data/SCorGAN/synthetic.npy', allow_pickle=False)[:1024]\n",
    "CorGAN_samples =  np.load('data/CorGAN/synthetic.npy',  allow_pickle=False)[:1024]\n",
    "medGAN_samples =  np.load('data/medGAN/synthetic.npy',  allow_pickle=False)[:1024]"
   ]
  },
  {
   "cell_type": "code",
   "execution_count": null,
   "metadata": {
    "id": "V2TIH5Vkgb0w"
   },
   "outputs": [],
   "source": [
    "input_data = None\n",
    "with h5py.File(dataset, 'r') as hf:\n",
    "    input_data = hf.get('dataset')[()]"
   ]
  },
  {
   "cell_type": "code",
   "execution_count": null,
   "metadata": {
    "id": "NVKOiaocg5bG"
   },
   "outputs": [],
   "source": [
    "mmd_calc = torch_two_sample.statistics_diff.MMDStatistic(1024, 1024)"
   ]
  },
  {
   "cell_type": "code",
   "execution_count": null,
   "metadata": {
    "id": "Ue7s5KD1hHkU"
   },
   "outputs": [],
   "source": [
    "def getRes(dataset):\n",
    "    res = []\n",
    "    for i in range(0, 10240, 1024):\n",
    "        res.append(mmd_calc(torch.tensor(input_data[i:i + 1024]), torch.tensor(dataset), alphas=[0.01]))\n",
    "    return np.mean(res), np.std(res)"
   ]
  },
  {
   "cell_type": "code",
   "execution_count": null,
   "metadata": {
    "colab": {
     "base_uri": "https://localhost:8080/"
    },
    "id": "OgDrmLxMraob",
    "outputId": "d0075788-077b-448d-b513-baa7e0c4ab1e"
   },
   "outputs": [],
   "source": [
    "getRes(SCorGAN_samples)"
   ]
  },
  {
   "cell_type": "code",
   "execution_count": null,
   "metadata": {
    "colab": {
     "base_uri": "https://localhost:8080/"
    },
    "id": "HFwk_adwiCSU",
    "outputId": "e21d6c36-5b63-4616-80a7-8078490b1f12"
   },
   "outputs": [],
   "source": [
    "getRes(CorGAN_samples)"
   ]
  },
  {
   "cell_type": "code",
   "execution_count": null,
   "metadata": {
    "colab": {
     "base_uri": "https://localhost:8080/"
    },
    "id": "a0nlh8O6jSLV",
    "outputId": "e862e16c-7b0e-43fe-c1da-0502319f591d"
   },
   "outputs": [],
   "source": [
    "getRes(medGAN_samples)"
   ]
  },
  {
   "cell_type": "code",
   "execution_count": null,
   "metadata": {
    "id": "ETSzifBiZ2QL"
   },
   "outputs": [],
   "source": []
  }
 ],
 "metadata": {
  "colab": {
   "collapsed_sections": [],
   "name": "MMD.ETD.ipynb",
   "provenance": []
  },
  "kernelspec": {
   "display_name": "Python 3 (ipykernel)",
   "language": "python",
   "name": "python3"
  },
  "language_info": {
   "codemirror_mode": {
    "name": "ipython",
    "version": 3
   },
   "file_extension": ".py",
   "mimetype": "text/x-python",
   "name": "python",
   "nbconvert_exporter": "python",
   "pygments_lexer": "ipython3",
   "version": "3.9.6"
  }
 },
 "nbformat": 4,
 "nbformat_minor": 1
}
